{
 "cells": [
  {
   "cell_type": "code",
   "execution_count": 1,
   "metadata": {},
   "outputs": [
    {
     "data": {
      "text/plain": [
       "estimate_distance"
      ]
     },
     "execution_count": 1,
     "metadata": {},
     "output_type": "execute_result"
    }
   ],
   "source": [
    "include(\"./include_all.jl\")"
   ]
  },
  {
   "cell_type": "code",
   "execution_count": 2,
   "metadata": {},
   "outputs": [
    {
     "data": {
      "text/plain": [
       "\"GTCGATAGTCGACTAGCT\""
      ]
     },
     "execution_count": 2,
     "metadata": {},
     "output_type": "execute_result"
    }
   ],
   "source": [
    "#Align\n",
    "#out1, out2 = nw_align(\"GTCGATCGACTAGCTA\",\"GTCGATGCGCCTGCTA\")\n",
    "out1, out2 = triplet_nw_align(\"GTCGATCGACTAGCT\",\"GTCGATAGTCGACTAGCT\")\n",
    "out2"
   ]
  },
  {
   "cell_type": "code",
   "execution_count": 3,
   "metadata": {},
   "outputs": [
    {
     "data": {
      "text/html": [
       "true"
      ],
      "text/plain": [
       "true"
      ]
     },
     "execution_count": 3,
     "metadata": {},
     "output_type": "execute_result"
    }
   ],
   "source": [
    "#Demux\n",
    "out = IUPAC_equals(toIUPACnum(\"N\")[1],toIUPACnum(\"A\")[1])\n",
    "out"
   ]
  },
  {
   "cell_type": "code",
   "execution_count": 19,
   "metadata": {},
   "outputs": [
    {
     "data": {
      "text/html": [
       "0.23963672893825572"
      ],
      "text/plain": [
       "0.23963672893825572"
      ]
     },
     "execution_count": 19,
     "metadata": {},
     "output_type": "execute_result"
    }
   ],
   "source": [
    "#Evo dists\n",
    "out = estimate_distance(\"GTCGATCGACTAGCT\", \"GACGCTCGACTAGGT\")\n",
    "out"
   ]
  },
  {
   "cell_type": "code",
   "execution_count": 5,
   "metadata": {},
   "outputs": [
    {
     "name": "stderr",
     "output_type": "stream",
     "text": [
      "WARNING: imported binding for names overwritten in module Main\n"
     ]
    },
    {
     "data": {
      "text/plain": [
       "(String[\"GTCGATCGACTAGCTGCATGACTGACATCGACATCGACGGAGCATGACTAGGACGACGAGCATC\", \"GTCGATCGACTAGCTGCATGACTGACATCGACATCGACGGAGCATGACTAGGACGACGAGCATC\", \"GTCGATCGACTAGCTGCATGACTGACATCGACATCGACGGAGCATGACTAGGACGACGAGCATC\"], Array{Int8,1}[Int8[30, 30, 30, 30, 30, 30, 30, 30, 30, 30  …  30, 30, 30, 30, 30, 30, 30, 30, 30, 30], Int8[30, 30, 30, 30, 30, 30, 30, 30, 30, 30  …  30, 30, 30, 30, 30, 30, 30, 30, 30, 30], Int8[30, 30, 30, 30, 30, 30, 30, 30, 30, 30  …  30, 30, 30, 30, 30, 30, 30, 30, 30, 30]], String[\"s1\", \"s2\", \"s3\"])"
      ]
     },
     "execution_count": 5,
     "metadata": {},
     "output_type": "execute_result"
    }
   ],
   "source": [
    "#HMMs\n",
    "seqs = [\"GTCGATCGACTAGCTGCATGACTGACATCGACATCGACGGAGCATGACTAGGACGACGAGCATC\", \"GTCGATCGACTAGCTGCATGACTGACATCGACATCGACGGAGCATGACTAGGACGACGAGCATC\", \"GTCGATCGACTAGCTGCATGACTGACATCGACATCGACGGAGCATGACTAGGACGACGAGCATCAAAAAAAAAAAAAAAAAAAAA\"]  \n",
    "names = [\"s1\", \"s2\", \"s3\"]\n",
    "phreds = [[UInt8(30) for i in 1:length(seq)] for seq in seqs]\n",
    "newseqs, newphreds, newnames = homopolymer_filter(seqs, phreds, names)"
   ]
  },
  {
   "cell_type": "code",
   "execution_count": 6,
   "metadata": {},
   "outputs": [
    {
     "data": {
      "text/plain": [
       "3-element Array{String,1}:\n",
       " \"GATGCTCGTCGTCCTAGTCATGCTCCGTCGATGTCGATGTCAGTCATGCAGCTAGTCGATCGAC\"                     \n",
       " \"GATGCTCGTCGTCCTAGTCATGCTCCGTCGATGTCGATGTCAGTCATGCAGCTAGTCGATCGAC\"                     \n",
       " \"TTTTTTTTTTTTTTTTTTTTTGATGCTCGTCGTCCTAGTCATGCTCCGTCGATGTCGATGTCAGTCATGCAGCTAGTCGATCGAC\""
      ]
     },
     "execution_count": 6,
     "metadata": {},
     "output_type": "execute_result"
    }
   ],
   "source": [
    "seqs = [\"GTCGATCGACTAGCTGCATGACTGACATCGACATCGACGGAGCATGACTAGGACGACGAGCATC\", \n",
    "                \"GTCGATCGACTAGCTGCATGACTGACATCGACATCGACGGAGCATGACTAGGACGACGAGCATC\", \n",
    "                \"GTCGATCGACTAGCTGCATGACTGACATCGACATCGACGGAGCATGACTAGGACGACGAGCATCAAAAAAAAAAAAAAAAAAAAA\"]  \n",
    "        refs = \"GTCGAT\"\n",
    "        names = [\"s1\", \"s2\", \"s3\"]\n",
    "        phreds = [[Int8(30) for i in 1:length(seq)] for seq in seqs]\n",
    "        oriented, newphreds, newnames = orient_strands(seqs, phreds, names, refs)\n",
    "\n",
    "oriented"
   ]
  },
  {
   "cell_type": "code",
   "execution_count": 7,
   "metadata": {},
   "outputs": [
    {
     "data": {
      "text/html": [
       "20"
      ],
      "text/plain": [
       "20"
      ]
     },
     "execution_count": 7,
     "metadata": {},
     "output_type": "execute_result"
    }
   ],
   "source": [
    "\n",
    "p_to_phred(Float64(0.01))"
   ]
  },
  {
   "cell_type": "code",
   "execution_count": 8,
   "metadata": {},
   "outputs": [
    {
     "data": {
      "text/plain": [
       "0-element Array{Int64,1}"
      ]
     },
     "execution_count": 8,
     "metadata": {},
     "output_type": "execute_result"
    }
   ],
   "source": [
    "out = quality_filter_inds(seqs, [Int8(1), Int8(20), Int8(20)])\n",
    "out"
   ]
  },
  {
   "cell_type": "code",
   "execution_count": 9,
   "metadata": {},
   "outputs": [
    {
     "data": {
      "text/html": [
       "true"
      ],
      "text/plain": [
       "true"
      ]
     },
     "execution_count": 9,
     "metadata": {},
     "output_type": "execute_result"
    }
   ],
   "source": [
    "out == []"
   ]
  },
  {
   "cell_type": "code",
   "execution_count": 10,
   "metadata": {},
   "outputs": [
    {
     "data": {
      "text/html": [
       "2.313261687518223"
      ],
      "text/plain": [
       "2.313261687518223"
      ]
     },
     "execution_count": 10,
     "metadata": {},
     "output_type": "execute_result"
    }
   ],
   "source": [
    "logsum(1, 2)"
   ]
  },
  {
   "cell_type": "code",
   "execution_count": 17,
   "metadata": {},
   "outputs": [
    {
     "name": "stdout",
     "output_type": "stream",
     "text": [
      "Using 100.0% of reads. If this is lower than 5%, use RAD instead.\n"
     ]
    },
    {
     "data": {
      "text/plain": [
       "2-element Array{Float64,1}:\n",
       " 10.0\n",
       " 10.0"
      ]
     },
     "execution_count": 17,
     "metadata": {},
     "output_type": "execute_result"
    }
   ],
   "source": [
    "vcat([reverse(nl43env) for i in 1:10], [nl43env for i in 1:10])\n",
    "\n",
    "out1, out2 = FAD(vcat([reverse(nl43env) for i in 1:10], [nl43env for i in 1:10]))\n",
    "out2"
   ]
  },
  {
   "cell_type": "code",
   "execution_count": 16,
   "metadata": {},
   "outputs": [
    {
     "data": {
      "text/plain": [
       "2-element Array{String,1}:\n",
       " \"GGTGAACGGTGGGTAGAATATCGTTTTAGGAAAGGTTCGGGACAGAATAAGAAGATCCATACACCGCTTATCGAGATATTCGACGAACATTATGAAGATATTGGGATAGACAGGGGAGTCGATGACGATACCGACACCGTAACTCGTTCAATTGTCGTGATAAGAAATCAAGGACTGAGGTTATGACATCCTCTAAGGTGGTTATAAACTCCCGAAGGGTGGGGGACGCAGGGTCTTCAAGGTGTTAGGAGCAATGTTAGTTCTCATTCAGAGAGTTCGCCACCATCGACTTCTCCGTGTCCGAGGCGTCTAGCAGGGTCTATTCACGATTCCTAGGCAAGTGATTAGCTTACCTAGACAGAGACAGAGAGAGAGGTGGAAGAAGAAGATAAGGAAGCCCGGACAGCCCAGGGGAGCCCTAACCCTCCACCCAGACTTTGCTATTACCACTTATAGGGACGGATTGAGATAAGTGATATCTTTCATGTCGTTTTTGATAAGAATTTGGATGGTTCGGAGGATGATAGTAATACTTATTAAAATATATGGTGTCGGTTAAACAATACAATTTGGTTAAGGTGTTTGAACGGGTAAATAGATTAAGGTTATTAAGAACAAGTAAGAAAAGAACGACCAAAACGCTAAGAAGTTAATTCCTCACATAATTCGAACACATTAACAATTAAAGAGACAGGGTGAGGTAGGTCCAGTACAATAAGGTTTAGACAAGGTCTCTAAATAATGAGGTTGATCGTAAGGTTCCGTGTCGTCACCACGTTTACTCAAAAGGTCTCGTTGGGGTTTAGGGGTCCTCGACAACTAGGAAATCCATAGAAAGGTGTCGGTCCTAAGAACGGACCTCGACAAACTACGGGGTCTGACACTCAACGTTGTCTACGACAACGCGGAGTTATCGGGAGTCGTTTAACAAGACGACGACGTGATATAGTCTGTTATTAACAGACCGGACATGGCAGTCGCAGTAACTGCGACGCGGGTATCACGAAGGACGACGAGGGTTCTTGGGTTCCTTGTTTCGAGGATAAGGGTGACGAGAAAAAAGAGAGACGTGGTGAGAAGAGAAACGGAACCACCCACGATGAGGATTACCAAGTTAAAAATGATGAAATATAAATATATTAAGTGAAGAGGTTAACAGGGAGTATAGCGGAGGAGGTCCAGACTTCTAGAGCCTGGGTAACAACAATAATGGTGGTAGAGAACAATTATCGTCGGGTCATTATAAACTACTTGTAGATTAAACAGGTGACTACCCTCCCCGTATGTAACGAAAAGGATGAAGGACGGTGTACAAATATTTAACAAAATAAGACGTACCCTCACACTAACACAGTGAAGGAAGTCACAATAAACTGGGAAGTCATGAGGTTCATGATAATTTGGTTCATGATAATTTGTCAACACAACTTAATGTCATCTTTTTAAGGGGAGGTGTTAATTTTGACACGCAATGTTAAAGACCCAGGGGAGGACTCCTAACGAATTTCTAATAACAAAATAATAAAGGTTTAACAAGAGAATTAAACGATCGATAGACAAAATTTCACCGTAAGGTAAAACGAGATGATTACAATGTTACACGAACAGAGTATAAAGGATAAAAAGGATAACATTGTTTACGAGAGGGACCAGGGGAGACCTATGCCTATGAAAAAGAACATAACAACAACCCAGAACATGTTAATTAAAGATGTCTACACAAGTCGACATGATAATACCAAAATCGTAACAGACACTTTAACCGTCTAGATTAATGATGTAGAAGAAGACGATCTGACGGTAAATTGTCGTCAACTCAACTATGATGACCGGACTAAGGTACACATGTAACATGACACGACTGTAAACATGTACCAGGACAAGGTAACTTGCAGAATAATAATGTAAAATCTTAGCGTTTTGGTCGGCCCCGTGTTATTACATACCCTTAACCGAGTTTCCTATGGAAACCTGTCCGGACACATTACTGACTCCACAATGTTGAATAGTTGGATATCGACCATAATAGATAACCATGATATAGTTCAAATATTTTCTTACGTATAAGAAAGACGTGGAATAGAGAATACGAACACGACTATAACTTTCTCGTCAAAAAATAGAGAGGAAAGAGGTAATAGTAAGAGGGCGATGATGATAACCATAATCATAGTAAGAAGTTTAGTCACGTGAAATTTGATTGTGTCTCACCCCAATTAAAATGTGTACCGAAATCCGAAACTAGGGTATTTGACTAATATAGGAGTACGTAGACAAGATGGTACAGTAAAAAGGTGTACAATTTTAAAAGACAGTGTAAATGGTTATGATGAAGAACACCCAACCCCAGACACCCATGTGTCCGTACACACCGGGTTTGTAATACATGGAGACATAGTATACGAAATCGTAGACTACGTGTTTTATCTCACCACCAACGAAGGAAGGTGTGTCCATGGGGTATTATCTGACACTGGGTGTTAAAAAGACATCGTGATGTCTAGTAGTTATAGGGTTCCTCGTACCACGGGGTAAAGGTGGGGGTAGAGGTGTTCACGACTATGAAGAGGAAGTGAGAGTAACGGTGACAGAAGACGAG\"\n",
       " \"GAGCAGAAGACAGTGGCAATGAGAGTGAAGGAGAAGTATCAGCACTTGTGGAGATGGGGGTGGAAATGGGGCACCATGCTCCTTGGGATATTGATGATCTGTAGTGCTACAGAAAAATTGTGGGTCACAGTCTATTATGGGGTACCTGTGTGGAAGGAAGCAACCACCACTCTATTTTGTGCATCAGATGCTAAAGCATATGATACAGAGGTACATAATGTTTGGGCCACACATGCCTGTGTACCCACAGACCCCAACCCACAAGAAGTAGTATTGGTAAATGTGACAGAAAATTTTAACATGTGGAAAAATGACATGGTAGAACAGATGCATGAGGATATAATCAGTTTATGGGATCAAAGCCTAAAGCCATGTGTAAAATTAACCCCACTCTGTGTTAGTTTAAAGTGCACTGATTTGAAGAATGATACTAATACCAATAGTAGTAGCGGGAGAATGATAATGGAGAAAGGAGAGATAAAAAACTGCTCTTTCAATATCAGCACAAGCATAAGAGATAAGGTGCAGAAAGAATATGCATTCTTTTATAAACTTGATATAGTACCAATAGATAATACCAGCTATAGGTTGATAAGTTGTAACACCTCAGTCATTACACAGGCCTGTCCAAAGGTATCCTTTGAGCCAATTCCCATACATTATTGTGCCCCGGCTGGTTTTGCGATTCTAAAATGTAATAATAAGACGTTCAATGGAACAGGACCATGTACAAATGTCAGCACAGTACAATGTACACATGGAATCAGGCCAGTAGTATCAACTCAACTGCTGTTAAATGGCAGTCTAGCAGAAGAAGATGTAGTAATTAGATCTGCCAATTTCACAGACAATGCTAAAACCATAATAGTACAGCTGAACACATCTGTAGAAATTAATTGTACAAGACCCAACAACAATACAAGAAAAAGTATCCGTATCCAGAGGGGACCAGGGAGAGCATTTGTTACAATAGGAAAAATAGGAAATATGAGACAAGCACATTGTAACATTAGTAGAGCAAAATGGAATGCCACTTTAAAACAGATAGCTAGCAAATTAAGAGAACAATTTGGAAATAATAAAACAATAATCTTTAAGCAATCCTCAGGAGGGGACCCAGAAATTGTAACGCACAGTTTTAATTGTGGAGGGGAATTTTTCTACTGTAATTCAACACAACTGTTTAATAGTACTTGGTTTAATAGTACTTGGAGTACTGAAGGGTCAAATAACACTGAAGGAAGTGACACAATCACACTCCCATGCAGAATAAAACAATTTATAAACATGTGGCAGGAAGTAGGAAAAGCAATGTATGCCCCTCCCATCAGTGGACAAATTAGATGTTCATCAAATATTACTGGGCTGCTATTAACAAGAGATGGTGGTAATAACAACAATGGGTCCGAGATCTTCAGACCTGGAGGAGGCGATATGAGGGACAATTGGAGAAGTGAATTATATAAATATAAAGTAGTAAAAATTGAACCATTAGGAGTAGCACCCACCAAGGCAAAGAGAAGAGTGGTGCAGAGAGAAAAAAGAGCAGTGGGAATAGGAGCTTTGTTCCTTGGGTTCTTGGGAGCAGCAGGAAGCACTATGGGCGCAGCGTCAATGACGCTGACGGTACAGGCCAGACAATTATTGTCTGATATAGTGCAGCAGCAGAACAATTTGCTGAGGGCTATTGAGGCGCAACAGCATCTGTTGCAACTCACAGTCTGGGGCATCAAACAGCTCCAGGCAAGAATCCTGGCTGTGGAAAGATACCTAAAGGATCAACAGCTCCTGGGGATTTGGGGTTGCTCTGGAAAACTCATTTGCACCACTGCTGTGCCTTGGAATGCTAGTTGGAGTAATAAATCTCTGGAACAGATTTGGAATAACATGACCTGGATGGAGTGGGACAGAGAAATTAACAATTACACAAGCTTAATACACTCCTTAATTGAAGAATCGCAAAACCAGCAAGAAAAGAATGAACAAGAATTATTGGAATTAGATAAATGGGCAAGTTTGTGGAATTGGTTTAACATAACAAATTGGCTGTGGTATATAAAATTATTCATAATGATAGTAGGAGGCTTGGTAGGTTTAAGAATAGTTTTTGCTGTACTTTCTATAGTGAATAGAGTTAGGCAGGGATATTCACCATTATCGTTTCAGACCCACCTCCCAATCCCGAGGGGACCCGACAGGCCCGAAGGAATAGAAGAAGAAGGTGGAGAGAGAGACAGAGACAGATCCATTCGATTAGTGAACGGATCCTTAGCACTTATCTGGGACGATCTGCGGAGCCTGTGCCTCTTCAGCTACCACCGCTTGAGAGACTTACTCTTGATTGTAACGAGGATTGTGGAACTTCTGGGACGCAGGGGGTGGGAAGCCCTCAAATATTGGTGGAATCTCCTACAGTATTGGAGTCAGGAACTAAAGAATAGTGCTGTTAACTTGCTCAATGCCACAGCCATAGCAGTAGCTGAGGGGACAGATAGGGTTATAGAAGTATTACAAGCAGCTTATAGAGCTATTCGCCACATACCTAGAAGAATAAGACAGGGCTTGGAAAGGATTTTGCTATAAGATGGGTGGCAAGTGG\""
      ]
     },
     "execution_count": 16,
     "metadata": {},
     "output_type": "execute_result"
    }
   ],
   "source": [
    "out1"
   ]
  },
  {
   "cell_type": "code",
   "execution_count": 23,
   "metadata": {},
   "outputs": [
    {
     "data": {
      "text/html": [
       "true"
      ],
      "text/plain": [
       "true"
      ]
     },
     "execution_count": 23,
     "metadata": {},
     "output_type": "execute_result"
    }
   ],
   "source": [
    "input = \"AAAAAC\"\n",
    "bin = kmer_count(input, 5)\n",
    "\n",
    "bin[1] == 1"
   ]
  },
  {
   "cell_type": "code",
   "execution_count": 28,
   "metadata": {},
   "outputs": [
    {
     "data": {
      "text/html": [
       "true"
      ],
      "text/plain": [
       "true"
      ]
     },
     "execution_count": 28,
     "metadata": {},
     "output_type": "execute_result"
    }
   ],
   "source": [
    "out = IUPAC_equals(toIUPACnum(\"N\")[1],toIUPACnum(\"A\")[1])\n",
    "out == true"
   ]
  },
  {
   "cell_type": "code",
   "execution_count": 12,
   "metadata": {},
   "outputs": [
    {
     "data": {
      "text/html": [
       "true"
      ],
      "text/plain": [
       "true"
      ]
     },
     "execution_count": 12,
     "metadata": {},
     "output_type": "execute_result"
    }
   ],
   "source": [
    "input1 = [5.0, 5.0, 3.0, 2.0]\n",
    "input2 = [5.0, 6.0, 6.0, 2.0]\n",
    "k = 2\n",
    "\n",
    "ret = corrected_kmer_dist(input1, input2; k = 2)\n",
    "\n",
    "\n",
    "ret == sqeuclidean(input1, input2)/ (k*(sum(input1) + sum(input2)))"
   ]
  },
  {
   "cell_type": "code",
   "execution_count": 9,
   "metadata": {},
   "outputs": [
    {
     "data": {
      "text/html": [
       "0.14705882352941177"
      ],
      "text/plain": [
       "0.14705882352941177"
      ]
     },
     "execution_count": 9,
     "metadata": {},
     "output_type": "execute_result"
    }
   ],
   "source": [
    "ret = corrected_kmer_dist(input1, input2; k = 2)\n",
    "\n"
   ]
  },
  {
   "cell_type": "code",
   "execution_count": 16,
   "metadata": {},
   "outputs": [
    {
     "data": {
      "text/html": [
       "true"
      ],
      "text/plain": [
       "true"
      ]
     },
     "execution_count": 16,
     "metadata": {},
     "output_type": "execute_result"
    }
   ],
   "source": [
    "        seqs = [\"GTCGATCGACTAGCTGCATGACTGACATCGACATCGACGGAGCATGACTAGGACGACGAGCATC\",\n",
    "                \"GTCGATCGACTAGCTGCATGACTGACATCGACATCGACGGAGCATGACTAGGACGACGAGCATC\",\n",
    "                \"GTCGATCGACTAGCTGCATGACTGACATCGACATCGACGGAGCATGACTAGGACGACGAGCATCAAAAAAAAAAAAAAAAAAAAA\"]  \n",
    "        names = [\"s1\", \"s2\", \"s3\"]\n",
    "        phreds = [[UInt8(30) for i in 1:length(seq)] for seq in seqs]\n",
    "        newseqs, newphreds, newnames = homopolymer_filter(seqs, phreds, names)\n",
    "        \n",
    "        newseqs == [\"GTCGATCGACTAGCTGCATGACTGACATCGACATCGACGGAGCATGACTAGGACGACGAGCATC\",\n",
    "                         \"GTCGATCGACTAGCTGCATGACTGACATCGACATCGACGGAGCATGACTAGGACGACGAGCATC\",\n",
    "                         \"GTCGATCGACTAGCTGCATGACTGACATCGACATCGACGGAGCATGACTAGGACGACGAGCATC\"]"
   ]
  },
  {
   "cell_type": "code",
   "execution_count": 17,
   "metadata": {},
   "outputs": [
    {
     "data": {
      "text/html": [
       "true"
      ],
      "text/plain": [
       "true"
      ]
     },
     "execution_count": 17,
     "metadata": {},
     "output_type": "execute_result"
    }
   ],
   "source": [
    "        seqs = [\"GTCGATCGACTAGCTGCATGACTGACATCGACATCGACGGAGCATGACTAGGACGACGAGCATC\", \n",
    "                \"GTCGATCGACTAGCTGCATGACTGACATCGACATCGACGGAGCATGACTAGGACGACGAGCATC\", \n",
    "                \"GTCGATCGACTAGCTGCATGACTGACATCGACATCGACGGAGCATGACTAGGACGACGAGCATCAAAAAAAAAAAAAAAAAAAAA\"]    \n",
    "        out = quality_filter_inds(seqs, [Int8(1), Int8(20), Int8(20)])\n",
    "        out == []"
   ]
  },
  {
   "cell_type": "code",
   "execution_count": 19,
   "metadata": {},
   "outputs": [
    {
     "data": {
      "text/html": [
       "0.0"
      ],
      "text/plain": [
       "0.0"
      ]
     },
     "execution_count": 19,
     "metadata": {},
     "output_type": "execute_result"
    }
   ],
   "source": [
    "        input = [2, 2, 2, 2]\n",
    "        dist = dist_matrix(input, input; dist_met = (x,y)->abs(x-y))\n",
    "dist[1]"
   ]
  },
  {
   "cell_type": "code",
   "execution_count": null,
   "metadata": {},
   "outputs": [],
   "source": []
  }
 ],
 "metadata": {
  "kernelspec": {
   "display_name": "Julia 0.6.4",
   "language": "julia",
   "name": "julia-0.6"
  },
  "language_info": {
   "file_extension": ".jl",
   "mimetype": "application/julia",
   "name": "julia",
   "version": "0.6.4"
  }
 },
 "nbformat": 4,
 "nbformat_minor": 2
}
